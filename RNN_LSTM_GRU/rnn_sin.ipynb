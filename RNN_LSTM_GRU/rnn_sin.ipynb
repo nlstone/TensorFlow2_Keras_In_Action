{
 "cells": [
  {
   "cell_type": "code",
   "execution_count": 1,
   "metadata": {},
   "outputs": [],
   "source": [
    "import tensorflow as tf\n",
    "import tensorflow.keras as keras\n",
    "import numpy as np\n",
    "import matplotlib.pyplot as plt"
   ]
  },
  {
   "cell_type": "code",
   "execution_count": 2,
   "metadata": {},
   "outputs": [],
   "source": [
    "gpus = tf.config.experimental.list_physical_devices(\"GPU\")\n",
    "for gpu in gpus:\n",
    "    tf.config.experimental.set_memory_growth(gpu, True)"
   ]
  },
  {
   "cell_type": "markdown",
   "metadata": {},
   "source": [
    "训练任务：  \n",
    "生成sin函数样本数据，对函数值进行顺序抽样，每50个数据点作为一组，前49个作为x_data，第50个数据点作为y_label。  \n",
    "模型输入/输出:依次输入每组数据的前49个，尝试预测出第50个数据（包括x坐标和y坐标)  \n",
    "每一个数据的shape: (2, )"
   ]
  },
  {
   "cell_type": "code",
   "execution_count": 3,
   "metadata": {},
   "outputs": [
    {
     "name": "stdout",
     "output_type": "stream",
     "text": [
      "1000\n"
     ]
    },
    {
     "data": {
      "text/plain": [
       "[<matplotlib.lines.Line2D at 0x182efddc3c8>]"
      ]
     },
     "execution_count": 3,
     "metadata": {},
     "output_type": "execute_result"
    },
    {
     "data": {
      "image/png": "[encoded data removed]",
      "text/plain": [
       "<Figure size 432x288 with 1 Axes>"
      ]
     },
     "metadata": {
      "needs_background": "light"
     },
     "output_type": "display_data"
    }
   ],
   "source": [
    "# 在函数曲线上进行采样\n",
    "x = np.arange(0, 10, 0.01)\n",
    "print(len(x))\n",
    "#y = np.sin(x)\n",
    "y = np.sin(3*x + 0.85) - np.cos(x-2) + 0.5 + 2 * x\n",
    "plt.plot(x, y)"
   ]
  },
  {
   "cell_type": "code",
   "execution_count": 4,
   "metadata": {},
   "outputs": [
    {
     "name": "stdout",
     "output_type": "stream",
     "text": [
      "[0.   0.01 0.02 0.03 0.04]\n",
      "[1.66742724 1.69777209 1.72738261 1.75624285 1.78433748]\n"
     ]
    }
   ],
   "source": [
    "print(x[:5])\n",
    "print(y[:5])"
   ]
  },
  {
   "cell_type": "code",
   "execution_count": 5,
   "metadata": {},
   "outputs": [
    {
     "name": "stdout",
     "output_type": "stream",
     "text": [
      "[[0.         1.66742724]\n",
      " [0.01       1.69777209]\n",
      " [0.02       1.72738261]\n",
      " [0.03       1.75624285]\n",
      " [0.04       1.78433748]]\n"
     ]
    }
   ],
   "source": [
    "data_all = np.hstack([x.reshape(-1,1), y.reshape(-1,1)])\n",
    "print(data_all[:5])"
   ]
  },
  {
   "cell_type": "code",
   "execution_count": 6,
   "metadata": {},
   "outputs": [
    {
     "name": "stdout",
     "output_type": "stream",
     "text": [
      "train data shape:  (951, 49, 2)\n",
      "label data shape:  (951, 2)\n"
     ]
    }
   ],
   "source": [
    "# 对采样后的数据进行分组\n",
    "sample_len = 50\n",
    "train_data = []\n",
    "label_data = []\n",
    "for index in range(len(data_all) - sample_len + 1):\n",
    "    train_data.append(data_all[index: index+sample_len-1])\n",
    "    label_data.append(data_all[index+sample_len-1])\n",
    "\n",
    "train_data = np.array(train_data)\n",
    "label_data = np.array(label_data)\n",
    "\n",
    "print('train data shape: ', train_data.shape)\n",
    "print('label data shape: ', label_data.shape)"
   ]
  },
  {
   "cell_type": "code",
   "execution_count": 7,
   "metadata": {},
   "outputs": [
    {
     "name": "stdout",
     "output_type": "stream",
     "text": [
      "Model: \"sequential\"\n",
      "_________________________________________________________________\n",
      "Layer (type)                 Output Shape              Param #   \n",
      "=================================================================\n",
      "simple_rnn (SimpleRNN)       (None, 128)               16768     \n",
      "_________________________________________________________________\n",
      "dense (Dense)                (None, 2)                 258       \n",
      "=================================================================\n",
      "Total params: 17,026\n",
      "Trainable params: 17,026\n",
      "Non-trainable params: 0\n",
      "_________________________________________________________________\n"
     ]
    }
   ],
   "source": [
    "# 创建rnn网络\n",
    "model = keras.models.Sequential([\n",
    "    keras.layers.SimpleRNN(units=128, input_shape=(49, 2), return_sequences=False),\n",
    "    keras.layers.Dense(2)\n",
    "])\n",
    "model.summary()"
   ]
  },
  {
   "cell_type": "code",
   "execution_count": 8,
   "metadata": {},
   "outputs": [],
   "source": [
    "model.compile(loss = 'mse',\n",
    "              optimizer = 'adam',\n",
    "              metrics=['accuracy'])"
   ]
  },
  {
   "cell_type": "code",
   "execution_count": 9,
   "metadata": {},
   "outputs": [
    {
     "name": "stdout",
     "output_type": "stream",
     "text": [
      "Train on 951 samples\n",
      "Epoch 1/10\n",
      "951/951 [==============================] - 5s 6ms/sample - loss: 14.8434 - accuracy: 0.9211 3s - loss\n",
      "Epoch 2/10\n",
      "951/951 [==============================] - 4s 4ms/sample - loss: 0.6287 - accuracy: 1.0000\n",
      "Epoch 3/10\n",
      "951/951 [==============================] - 4s 4ms/sample - loss: 0.1395 - accuracy: 1.00000s - loss: 0.1398 - accuracy: 1.00\n",
      "Epoch 4/10\n",
      "951/951 [==============================] - 4s 4ms/sample - loss: 0.0643 - accuracy: 1.0000\n",
      "Epoch 5/10\n",
      "951/951 [==============================] - 4s 4ms/sample - loss: 0.0358 - accuracy: 1.0000\n",
      "Epoch 6/10\n",
      "951/951 [==============================] - 4s 4ms/sample - loss: 0.0178 - accuracy: 1.0000\n",
      "Epoch 7/10\n",
      "951/951 [==============================] - 4s 4ms/sample - loss: 0.0119 - accuracy: 0.9979\n",
      "Epoch 8/10\n",
      "951/951 [==============================] - 4s 4ms/sample - loss: 0.0086 - accuracy: 1.0000\n",
      "Epoch 9/10\n",
      "951/951 [==============================] - 4s 4ms/sample - loss: 0.0068 - accuracy: 1.0000\n",
      "Epoch 10/10\n",
      "951/951 [==============================] - 4s 4ms/sample - loss: 0.0057 - accuracy: 0.9968\n"
     ]
    }
   ],
   "source": [
    "batch_size = 8\n",
    "history = model.fit(train_data, label_data,\n",
    "                    epochs = 10,\n",
    "                    batch_size = batch_size)"
   ]
  },
  {
   "cell_type": "code",
   "execution_count": 10,
   "metadata": {},
   "outputs": [],
   "source": [
    "pred = model.predict(train_data)"
   ]
  },
  {
   "cell_type": "code",
   "execution_count": 11,
   "metadata": {},
   "outputs": [
    {
     "name": "stdout",
     "output_type": "stream",
     "text": [
      "951\n",
      "[[0.55593836 2.2017334 ]\n",
      " [0.5647118  2.1921294 ]\n",
      " [0.57346576 2.1817691 ]\n",
      " [0.5822018  2.1706724 ]\n",
      " [0.5909227  2.1588583 ]]\n"
     ]
    }
   ],
   "source": [
    "print(len(pred))\n",
    "print(pred[:5])"
   ]
  },
  {
   "cell_type": "code",
   "execution_count": 12,
   "metadata": {},
   "outputs": [
    {
     "data": {
      "text/plain": [
       "[<matplotlib.lines.Line2D at 0x1829abfcc48>]"
      ]
     },
     "execution_count": 12,
     "metadata": {},
     "output_type": "execute_result"
    },
    {
     "data": {
      "image/png": "[encoded data removed]",
      "text/plain": [
       "<Figure size 432x288 with 1 Axes>"
      ]
     },
     "metadata": {
      "needs_background": "light"
     },
     "output_type": "display_data"
    }
   ],
   "source": [
    "plt.plot(pred[:,0], pred[:,1])\n",
    "plt.plot(x, y, color='r')"
   ]
  },
  {
   "cell_type": "code",
   "execution_count": null,
   "metadata": {},
   "outputs": [],
   "source": []
  }
 ],
 "metadata": {
  "kernelspec": {
   "display_name": "Python 3",
   "language": "python",
   "name": "python3"
  },
  "language_info": {
   "codemirror_mode": {
    "name": "ipython",
    "version": 3
   },
   "file_extension": ".py",
   "mimetype": "text/x-python",
   "name": "python",
   "nbconvert_exporter": "python",
   "pygments_lexer": "ipython3",
   "version": "3.7.6"
  }
 },
 "nbformat": 4,
 "nbformat_minor": 4
}
