{
 "cells": [
  {
   "cell_type": "code",
   "execution_count": 35,
   "metadata": {},
   "outputs": [
    {
     "name": "stdout",
     "output_type": "stream",
     "text": [
      "tensorflow 2.0.0\n",
      "numpy 1.17.4\n"
     ]
    }
   ],
   "source": [
    "import tensorflow as tf\n",
    "import numpy as np\n",
    "for module in tf,np:\n",
    "    print(module.__name__, module.__version__)"
   ]
  },
  {
   "cell_type": "code",
   "execution_count": 36,
   "metadata": {},
   "outputs": [
    {
     "name": "stdout",
     "output_type": "stream",
     "text": [
      "tf.Tensor(1, shape=(), dtype=int32)\n",
      "tf.Tensor([1. 2. 3.], shape=(3,), dtype=float32)\n",
      "tf.Tensor(\n",
      "[[1. 2. 3.]\n",
      " [4. 5. 6.]\n",
      " [7. 8. 9.]], shape=(3, 3), dtype=float32)\n"
     ]
    }
   ],
   "source": [
    "# tf_constant\n",
    "a = tf.constant(1)\n",
    "b = tf.constant([1.,2,3])\n",
    "c = tf.constant([[1.,2,3],[4,5,6],[7,8,9]])\n",
    "print(a)\n",
    "print(b)\n",
    "print(c)"
   ]
  },
  {
   "cell_type": "code",
   "execution_count": 37,
   "metadata": {},
   "outputs": [
    {
     "name": "stdout",
     "output_type": "stream",
     "text": [
      "(3, 3)\n",
      "3\n"
     ]
    }
   ],
   "source": [
    "print(c.shape)\n",
    "print(c.shape[0])"
   ]
  },
  {
   "cell_type": "code",
   "execution_count": 38,
   "metadata": {},
   "outputs": [
    {
     "name": "stdout",
     "output_type": "stream",
     "text": [
      "tf.Tensor(\n",
      "[[4. 5. 6.]\n",
      " [7. 8. 9.]], shape=(2, 3), dtype=float32)\n",
      "tf.Tensor(\n",
      "[[2. 3.]\n",
      " [5. 6.]\n",
      " [8. 9.]], shape=(3, 2), dtype=float32)\n",
      "tf.Tensor(\n",
      "[[2.]\n",
      " [5.]\n",
      " [8.]], shape=(3, 1), dtype=float32)\n"
     ]
    }
   ],
   "source": [
    "# constant slice\n",
    "print(c[1:,:])\n",
    "print(c[:,1:])\n",
    "print(c[:,1:2])"
   ]
  },
  {
   "cell_type": "code",
   "execution_count": 39,
   "metadata": {},
   "outputs": [
    {
     "name": "stdout",
     "output_type": "stream",
     "text": [
      "tf.Tensor(\n",
      "[[11. 12. 13.]\n",
      " [14. 15. 16.]\n",
      " [17. 18. 19.]], shape=(3, 3), dtype=float32)\n",
      "tf.Tensor(\n",
      "[[  1.   8.  27.]\n",
      " [ 64. 125. 216.]\n",
      " [343. 512. 729.]], shape=(3, 3), dtype=float32)\n"
     ]
    }
   ],
   "source": [
    "# const op\n",
    "print(c + 10)#   - * /\n",
    "print(c ** 3)"
   ]
  },
  {
   "cell_type": "code",
   "execution_count": 40,
   "metadata": {},
   "outputs": [
    {
     "name": "stdout",
     "output_type": "stream",
     "text": [
      "tf.Tensor(\n",
      "[[ 1.  4.  9.]\n",
      " [ 4. 10. 18.]\n",
      " [ 7. 16. 27.]], shape=(3, 3), dtype=float32)\n"
     ]
    }
   ],
   "source": [
    "# broadcasting\n",
    "print( b * c )"
   ]
  },
  {
   "cell_type": "code",
   "execution_count": 41,
   "metadata": {},
   "outputs": [
    {
     "name": "stdout",
     "output_type": "stream",
     "text": [
      "tf.Tensor(\n",
      "[[ 22.  28.]\n",
      " [ 49.  64.]\n",
      " [ 76. 100.]], shape=(3, 2), dtype=float32)\n",
      "tf.Tensor(\n",
      "[[ 5. 11. 17.]\n",
      " [11. 25. 39.]\n",
      " [17. 39. 61.]], shape=(3, 3), dtype=float32)\n"
     ]
    }
   ],
   "source": [
    "d = tf.constant([[1.,2],[3,4],[5,6]])\n",
    "print(c @ d)\n",
    "print(d @ tf.transpose(d))"
   ]
  },
  {
   "cell_type": "code",
   "execution_count": 42,
   "metadata": {},
   "outputs": [
    {
     "name": "stdout",
     "output_type": "stream",
     "text": [
      "tf.Tensor(\n",
      "[[11. 12. 13.]\n",
      " [14. 15. 16.]\n",
      " [17. 18. 19.]], shape=(3, 3), dtype=float32)\n",
      "tf.Tensor(\n",
      "[[-9. -8. -7.]\n",
      " [-6. -5. -4.]\n",
      " [-3. -2. -1.]], shape=(3, 3), dtype=float32)\n",
      "tf.Tensor(\n",
      "[[10. 20. 30.]\n",
      " [40. 50. 60.]\n",
      " [70. 80. 90.]], shape=(3, 3), dtype=float32)\n",
      "tf.Tensor(\n",
      "[[0.1 0.2 0.3]\n",
      " [0.4 0.5 0.6]\n",
      " [0.7 0.8 0.9]], shape=(3, 3), dtype=float32)\n",
      "tf.Tensor(\n",
      "[[ 1.  4.  9.]\n",
      " [16. 25. 36.]\n",
      " [49. 64. 81.]], shape=(3, 3), dtype=float32)\n",
      "tf.Tensor(\n",
      "[[0.99999994 1.4142134  1.7320508 ]\n",
      " [1.9999999  2.236068   2.4494896 ]\n",
      " [2.6457512  2.8284268  3.        ]], shape=(3, 3), dtype=float32)\n",
      "tf.Tensor(\n",
      "[[  1.   8.  27.]\n",
      " [ 64. 125. 216.]\n",
      " [343. 512. 729.]], shape=(3, 3), dtype=float32)\n"
     ]
    }
   ],
   "source": [
    "print(tf.add(c,10))\n",
    "print(tf.subtract(c,10))\n",
    "print(tf.multiply(c,10))\n",
    "print(tf.divide(c,10))\n",
    "print(tf.square(c,10))\n",
    "print(tf.sqrt(c,10))\n",
    "print(tf.pow(c,3))"
   ]
  },
  {
   "cell_type": "code",
   "execution_count": 43,
   "metadata": {},
   "outputs": [
    {
     "name": "stdout",
     "output_type": "stream",
     "text": [
      "[[1. 2. 3.]\n",
      " [4. 5. 6.]\n",
      " [7. 8. 9.]]\n",
      "[[ 1.  4.  9.]\n",
      " [16. 25. 36.]\n",
      " [49. 64. 81.]]\n",
      "tf.Tensor(\n",
      "[[1. 2. 3.]\n",
      " [4. 5. 6.]], shape=(2, 3), dtype=float64)\n"
     ]
    }
   ],
   "source": [
    "print(c.numpy())\n",
    "print(np.square(c))\n",
    "np_data = np.array([[1.,2,3],[4,5,6]])\n",
    "print(tf.constant(np_data))"
   ]
  },
  {
   "cell_type": "code",
   "execution_count": 44,
   "metadata": {},
   "outputs": [
    {
     "name": "stdout",
     "output_type": "stream",
     "text": [
      "tf.Tensor(1, shape=(), dtype=int32)\n",
      "tf.Tensor(2, shape=(), dtype=int32)\n"
     ]
    }
   ],
   "source": [
    "# const change?\n",
    "a1 = tf.constant(1)\n",
    "b1 = tf.constant(2)\n",
    "print(a1)\n",
    "a1 = b1\n",
    "print(a1)"
   ]
  },
  {
   "cell_type": "code",
   "execution_count": 45,
   "metadata": {},
   "outputs": [
    {
     "name": "stdout",
     "output_type": "stream",
     "text": [
      "<tf.Variable 'myVariable:0' shape=(2, 3) dtype=float32, numpy=\n",
      "array([[1., 2., 3.],\n",
      "       [4., 5., 6.]], dtype=float32)>\n",
      "[[1. 2. 3.]\n",
      " [4. 5. 6.]]\n",
      "tf.Tensor(\n",
      "[[1. 2. 3.]\n",
      " [4. 5. 6.]], shape=(2, 3), dtype=float32)\n"
     ]
    }
   ],
   "source": [
    "# variable\n",
    "v = tf.Variable([[1.,2,3],[4,5,6]], name='myVariable')\n",
    "print(v)\n",
    "print(v.numpy())\n",
    "print(v.value())"
   ]
  },
  {
   "cell_type": "code",
   "execution_count": 46,
   "metadata": {},
   "outputs": [
    {
     "name": "stdout",
     "output_type": "stream",
     "text": [
      "<tf.Variable 'myVariable:0' shape=(2, 3) dtype=float32, numpy=\n",
      "array([[ 2.,  4.,  6.],\n",
      "       [ 8., 10., 12.]], dtype=float32)>\n",
      "<tf.Variable 'myVariable:0' shape=(2, 3) dtype=float32, numpy=\n",
      "array([[ 2.,  4.,  6.],\n",
      "       [ 8., -1., 12.]], dtype=float32)>\n",
      "<tf.Variable 'myVariable:0' shape=(2, 3) dtype=float32, numpy=\n",
      "array([[2., 4., 6.],\n",
      "       [7., 8., 9.]], dtype=float32)>\n",
      "<tf.Variable 'myVariable:0' shape=(2, 3) dtype=float32, numpy=\n",
      "array([[ 6., 12., 18.],\n",
      "       [21., 24., 27.]], dtype=float32)>\n",
      "<tf.Variable 'myVariable:0' shape=(2, 3) dtype=float32, numpy=\n",
      "array([[ -6., -12., -18.],\n",
      "       [-21., -24., -27.]], dtype=float32)>\n"
     ]
    }
   ],
   "source": [
    "# assign\n",
    "v.assign(2*v)\n",
    "print(v)\n",
    "v[1,1].assign(-1)\n",
    "print(v)\n",
    "v[1].assign([7,8,9])\n",
    "print(v)\n",
    "v.assign_add(2*v) # v.assign(v+2*v)\n",
    "print(v)\n",
    "v.assign_sub(2*v)\n",
    "print(v)"
   ]
  },
  {
   "cell_type": "code",
   "execution_count": 47,
   "metadata": {},
   "outputs": [
    {
     "name": "stdout",
     "output_type": "stream",
     "text": [
      "<tf.Variable 'myVariable:0' shape=(2, 3) dtype=float32, numpy=\n",
      "array([[ -6.001, -12.001, -18.001],\n",
      "       [-21.001, -24.001, -27.001]], dtype=float32)>\n"
     ]
    }
   ],
   "source": [
    "v.assign(v-0.001)\n",
    "print(v)"
   ]
  },
  {
   "cell_type": "code",
   "execution_count": 48,
   "metadata": {},
   "outputs": [
    {
     "name": "stdout",
     "output_type": "stream",
     "text": [
      "<tf.Variable 'myVariable:0' shape=(2, 3) dtype=float32, numpy=\n",
      "array([[ -6.001, -12.001, -18.001],\n",
      "       [-21.001, -24.001, -27.001]], dtype=float32)>\n",
      "tf.Tensor(\n",
      "[[ -5.001 -11.001 -17.001]\n",
      " [-20.001 -23.001 -26.001]], shape=(2, 3), dtype=float32)\n"
     ]
    }
   ],
   "source": [
    "# = assign?\n",
    "v1 = v\n",
    "v = v+1\n",
    "print(v1)\n",
    "print(v)"
   ]
  },
  {
   "cell_type": "code",
   "execution_count": 49,
   "metadata": {},
   "outputs": [
    {
     "data": {
      "text/plain": [
       "<tf.Variable 'UnreadVariable' shape=(2, 3) dtype=float32, numpy=\n",
       "array([[ -6.001, -12.001, -18.001],\n",
       "       [-21.001, -24.001,  -1.   ]], dtype=float32)>"
      ]
     },
     "execution_count": 49,
     "metadata": {},
     "output_type": "execute_result"
    }
   ],
   "source": [
    "v1[1,2].assign(-1)"
   ]
  },
  {
   "cell_type": "code",
   "execution_count": 50,
   "metadata": {},
   "outputs": [
    {
     "name": "stdout",
     "output_type": "stream",
     "text": [
      "tf.Tensor(b'coffee', shape=(), dtype=string)\n",
      "tf.Tensor(b'\\xe4\\xb8\\xad\\xe5\\x9b\\xbd\\xe4\\xba\\xbaa', shape=(), dtype=string)\n"
     ]
    }
   ],
   "source": [
    "# string\n",
    "s = tf.constant('coffee')\n",
    "s1 = tf.constant('中国人a')\n",
    "print(s)\n",
    "print(s1)"
   ]
  },
  {
   "cell_type": "code",
   "execution_count": 51,
   "metadata": {},
   "outputs": [
    {
     "name": "stdout",
     "output_type": "stream",
     "text": [
      "tf.Tensor(6, shape=(), dtype=int32)\n",
      "tf.Tensor(4, shape=(), dtype=int32)\n"
     ]
    }
   ],
   "source": [
    "print(tf.strings.length(s))\n",
    "print(tf.strings.length(s1, unit='UTF8_CHAR'))"
   ]
  },
  {
   "cell_type": "code",
   "execution_count": 52,
   "metadata": {},
   "outputs": [
    {
     "name": "stdout",
     "output_type": "stream",
     "text": [
      "tf.Tensor([20013 22269 20154    97], shape=(4,), dtype=int32)\n"
     ]
    }
   ],
   "source": [
    "s_decode = tf.strings.unicode_decode(s1, 'UTF8')\n",
    "print(s_decode)"
   ]
  },
  {
   "cell_type": "code",
   "execution_count": 53,
   "metadata": {},
   "outputs": [
    {
     "name": "stdout",
     "output_type": "stream",
     "text": [
      "tf.Tensor([b'ipad' b'ios' b'\\xe7\\x94\\xb5\\xe8\\x84\\x91'], shape=(3,), dtype=string)\n",
      "tf.Tensor([4 3 6], shape=(3,), dtype=int32)\n",
      "<tf.RaggedTensor [[105, 112, 97, 100], [105, 111, 115], [30005, 33041]]>\n"
     ]
    }
   ],
   "source": [
    "# string array\n",
    "s_array = tf.constant(['ipad', 'ios', '电脑'])\n",
    "print(s_array)\n",
    "print(tf.strings.length(s_array))\n",
    "print(tf.strings.unicode_decode(s_array, 'UTF8'))"
   ]
  },
  {
   "cell_type": "code",
   "execution_count": 54,
   "metadata": {},
   "outputs": [
    {
     "name": "stdout",
     "output_type": "stream",
     "text": [
      "<tf.RaggedTensor [[11, 21], [21, 22, 23], [], [41, 42, 43, 44]]>\n"
     ]
    }
   ],
   "source": [
    "rag = tf.ragged.constant([[11,21],[21,22,23],[],[41,42,43,44]])\n",
    "print(rag)"
   ]
  },
  {
   "cell_type": "code",
   "execution_count": 55,
   "metadata": {},
   "outputs": [
    {
     "name": "stdout",
     "output_type": "stream",
     "text": [
      "tf.Tensor(\n",
      "[[11 21  0  0]\n",
      " [21 22 23  0]\n",
      " [ 0  0  0  0]\n",
      " [41 42 43 44]], shape=(4, 4), dtype=int32)\n"
     ]
    }
   ],
   "source": [
    "print(rag.to_tensor())"
   ]
  },
  {
   "cell_type": "code",
   "execution_count": 56,
   "metadata": {},
   "outputs": [
    {
     "name": "stdout",
     "output_type": "stream",
     "text": [
      "SparseTensor(indices=tf.Tensor(\n",
      "[[0 0]\n",
      " [0 1]\n",
      " [1 0]\n",
      " [1 1]\n",
      " [1 2]\n",
      " [3 0]\n",
      " [3 1]\n",
      " [3 2]\n",
      " [3 3]], shape=(9, 2), dtype=int64), values=tf.Tensor([11 21 21 22 23 41 42 43 44], shape=(9,), dtype=int32), dense_shape=tf.Tensor([4 4], shape=(2,), dtype=int64))\n"
     ]
    }
   ],
   "source": [
    "print(rag.to_sparse())"
   ]
  },
  {
   "cell_type": "code",
   "execution_count": 57,
   "metadata": {},
   "outputs": [
    {
     "name": "stdout",
     "output_type": "stream",
     "text": [
      "SparseTensor(indices=tf.Tensor(\n",
      "[[1 0]\n",
      " [0 1]\n",
      " [2 3]], shape=(3, 2), dtype=int64), values=tf.Tensor([1. 2. 3.], shape=(3,), dtype=float32), dense_shape=tf.Tensor([4 4], shape=(2,), dtype=int64))\n"
     ]
    }
   ],
   "source": [
    "t_sparse = tf.SparseTensor(indices=[[1,0],[0,1],[2,3]], values=[1.,2,3], dense_shape=[4,4])\n",
    "print(t_sparse)"
   ]
  },
  {
   "cell_type": "code",
   "execution_count": 58,
   "metadata": {},
   "outputs": [
    {
     "name": "stdout",
     "output_type": "stream",
     "text": [
      "tf.Tensor(\n",
      "[[0. 2. 0. 0.]\n",
      " [1. 0. 0. 0.]\n",
      " [0. 0. 0. 3.]\n",
      " [0. 0. 0. 0.]], shape=(4, 4), dtype=float32)\n"
     ]
    }
   ],
   "source": [
    "t2_sparse = tf.sparse.reorder(t_sparse)\n",
    "print(tf.sparse.to_dense(t2_sparse))"
   ]
  },
  {
   "cell_type": "code",
   "execution_count": null,
   "metadata": {},
   "outputs": [],
   "source": []
  }
 ],
 "metadata": {
  "kernelspec": {
   "display_name": "Python 3",
   "language": "python",
   "name": "python3"
  },
  "language_info": {
   "codemirror_mode": {
    "name": "ipython",
    "version": 3
   },
   "file_extension": ".py",
   "mimetype": "text/x-python",
   "name": "python",
   "nbconvert_exporter": "python",
   "pygments_lexer": "ipython3",
   "version": "3.7.5"
  }
 },
 "nbformat": 4,
 "nbformat_minor": 2
}
