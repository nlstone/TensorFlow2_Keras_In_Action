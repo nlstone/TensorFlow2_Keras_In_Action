{
 "cells": [
  {
   "cell_type": "code",
   "execution_count": 1,
   "metadata": {},
   "outputs": [],
   "source": [
    "import tensorflow as tf\n",
    "import matplotlib.pyplot as plt\n",
    "import numpy as np\n",
    "import time"
   ]
  },
  {
   "cell_type": "code",
   "execution_count": 2,
   "metadata": {},
   "outputs": [],
   "source": [
    "#生成模拟数据， 假设真实函数为 y = x^3 + 2 * x^2 - 3 * x + 4\n",
    "x_data = np.sort( np.random.uniform(low=-1, high=1, size=100) )"
   ]
  },
  {
   "cell_type": "code",
   "execution_count": 3,
   "metadata": {},
   "outputs": [],
   "source": [
    "#创建函数 计算y值\n",
    "def func(x):\n",
    "    return pow(x,3) + 2*pow(x,2) - 3*x + 4\n",
    "y_data_func = func(x_data)"
   ]
  },
  {
   "cell_type": "code",
   "execution_count": 4,
   "metadata": {},
   "outputs": [],
   "source": [
    "#加入噪声， 让y值在一个小的区域内波动\n",
    "y_data = y_data_func + np.random.normal(scale=0.2, size=len(y_data_func))"
   ]
  },
  {
   "cell_type": "code",
   "execution_count": 5,
   "metadata": {},
   "outputs": [
    {
     "data": {
      "text/plain": [
       "[<matplotlib.lines.Line2D at 0x1eb55e7b188>]"
      ]
     },
     "execution_count": 5,
     "metadata": {},
     "output_type": "execute_result"
    },
    {
     "data": {
      "image/png": "[encoded data removed]",
      "text/plain": [
       "<Figure size 432x288 with 1 Axes>"
      ]
     },
     "metadata": {
      "needs_background": "light"
     },
     "output_type": "display_data"
    }
   ],
   "source": [
    "#绘制数据\n",
    "plt.plot(x_data, y_data_func, color='r')\n",
    "plt.plot(x_data, y_data, 'ob')"
   ]
  },
  {
   "cell_type": "code",
   "execution_count": 6,
   "metadata": {},
   "outputs": [
    {
     "name": "stdout",
     "output_type": "stream",
     "text": [
      "<tf.Variable 'Variable:0' shape=(4, 1) dtype=float32, numpy=\n",
      "array([[-1.0000229],\n",
      "       [-0.3262331],\n",
      "       [-1.2376724],\n",
      "       [ 1.5191698]], dtype=float32)>\n"
     ]
    }
   ],
   "source": [
    "weights = tf.Variable( tf.random.normal([4,1]), dtype = tf.float32)\n",
    "print(weights)"
   ]
  },
  {
   "cell_type": "code",
   "execution_count": 7,
   "metadata": {},
   "outputs": [],
   "source": [
    "'''\n",
    "def forward_func(x, w):\n",
    "    return w[0]*pow(x,3) + w[1]*pow(x,2) + w[2]*x + w[3]\n",
    "'''\n",
    "x_input = tf.constant([pow(x_data,3), pow(x_data,2),x_data], dtype=tf.float32)\n",
    "x_input = tf.transpose(x_input)\n",
    "x_input = tf.constant(np.hstack([x_input, np.ones((x_input.shape[0],1))]), dtype=tf.float32)\n",
    "def forward_func(x, w):\n",
    "    return tf.matmul(x,w)"
   ]
  },
  {
   "cell_type": "code",
   "execution_count": 8,
   "metadata": {},
   "outputs": [],
   "source": [
    "'''\n",
    "@tf.function\n",
    "def loss_func(y_compute):\n",
    "    return tf.reduce_mean( tf.pow(y_compute-y_data, 2) )\n",
    "'''\n",
    "@tf.function\n",
    "def loss_func(y_compute):\n",
    "    return tf.reduce_mean( tf.pow(tf.reshape(y_compute,[y_compute.shape[0],]) - y_data,2))"
   ]
  },
  {
   "cell_type": "code",
   "execution_count": 9,
   "metadata": {},
   "outputs": [
    {
     "name": "stdout",
     "output_type": "stream",
     "text": [
      "loss = 12.985549, time: 0.524454\n",
      "loss = 0.035839, time: 2.230594\n",
      "loss = 0.035839, time: 2.283409\n",
      "loss = 0.035839, time: 2.207211\n",
      "loss = 0.035839, time: 2.215568\n",
      "loss = 0.035839, time: 2.186373\n",
      "weights are : \n",
      " [[ 1.2386034]\n",
      " [ 2.0503476]\n",
      " [-3.1504877]\n",
      " [ 3.9881992]]\n"
     ]
    }
   ],
   "source": [
    "learn_rate = 0.1\n",
    "optimizer = tf.keras.optimizers.Adam(lr = learn_rate)\n",
    "lastTime = time.time()\n",
    "for index in range(3000):\n",
    "    with tf.GradientTape() as tape:\n",
    "        loss = loss_func( forward_func(x_input, weights) )\n",
    "    gradient = tape.gradient(loss, weights)\n",
    "    optimizer.apply_gradients([(gradient, weights)])\n",
    "    if index % 500 == 0:\n",
    "        print('loss = %f, time: %f'% (loss.numpy(), time.time()-lastTime))\n",
    "        lastTime = time.time();\n",
    "        \n",
    "print('weights are : \\n', weights.numpy())"
   ]
  },
  {
   "cell_type": "code",
   "execution_count": 10,
   "metadata": {},
   "outputs": [
    {
     "data": {
      "text/plain": [
       "[<matplotlib.lines.Line2D at 0x1eb5632b408>]"
      ]
     },
     "execution_count": 10,
     "metadata": {},
     "output_type": "execute_result"
    },
    {
     "data": {
      "image/png": "[encoded data removed]",
      "text/plain": [
       "<Figure size 432x288 with 1 Axes>"
      ]
     },
     "metadata": {
      "needs_background": "light"
     },
     "output_type": "display_data"
    }
   ],
   "source": [
    "#绘制训练结果\n",
    "plt.plot(x_data, y_data, 'ob')\n",
    "\n",
    "y_pred = forward_func(x_input, weights)\n",
    "plt.plot(x_data, y_pred, color='r')"
   ]
  },
  {
   "cell_type": "code",
   "execution_count": null,
   "metadata": {},
   "outputs": [],
   "source": []
  }
 ],
 "metadata": {
  "kernelspec": {
   "display_name": "Python 3",
   "language": "python",
   "name": "python3"
  },
  "language_info": {
   "codemirror_mode": {
    "name": "ipython",
    "version": 3
   },
   "file_extension": ".py",
   "mimetype": "text/x-python",
   "name": "python",
   "nbconvert_exporter": "python",
   "pygments_lexer": "ipython3",
   "version": "3.7.5"
  }
 },
 "nbformat": 4,
 "nbformat_minor": 2
}
