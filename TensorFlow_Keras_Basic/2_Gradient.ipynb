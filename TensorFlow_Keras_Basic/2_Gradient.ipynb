{
 "cells": [
  {
   "cell_type": "code",
   "execution_count": 2,
   "metadata": {},
   "outputs": [
    {
     "name": "stdout",
     "output_type": "stream",
     "text": [
      "tensorflow 2.0.0\n",
      "numpy 1.17.4\n"
     ]
    }
   ],
   "source": [
    "import tensorflow as tf\n",
    "import numpy as np\n",
    "import matplotlib.pyplot as plt\n",
    "for module in tf,np:\n",
    "    print(module.__name__, module.__version__)"
   ]
  },
  {
   "cell_type": "code",
   "execution_count": 3,
   "metadata": {},
   "outputs": [
    {
     "name": "stdout",
     "output_type": "stream",
     "text": [
      "tf.Tensor(5.0, shape=(), dtype=float32)\n"
     ]
    }
   ],
   "source": [
    "def my_func(x):\n",
    "    return x ** 2 + x + 1\n",
    "\n",
    "# compute dx when x == 2\n",
    "x1 = tf.constant(2.)\n",
    "with tf.GradientTape() as tape:\n",
    "    tape.watch(x1)\n",
    "    f = my_func(x1)\n",
    "    \n",
    "print(tape.gradient(f, x1))"
   ]
  },
  {
   "cell_type": "code",
   "execution_count": 4,
   "metadata": {},
   "outputs": [
    {
     "name": "stdout",
     "output_type": "stream",
     "text": [
      "[<tf.Tensor: id=36, shape=(), dtype=float32, numpy=1.0>, <tf.Tensor: id=37, shape=(), dtype=float32, numpy=7.0>]\n"
     ]
    }
   ],
   "source": [
    "def my_func2(x1, x2):\n",
    "    return (x1 + 5) * (x2 - 2)\n",
    "# compute dx1, dx2 at(2,3)\n",
    "x1 = tf.Variable(2.)\n",
    "x2 = tf.Variable(3.)\n",
    "with tf.GradientTape() as tape:\n",
    "    f = my_func2(x1, x2)\n",
    "    \n",
    "print(tape.gradient(f,[x1, x2]))"
   ]
  },
  {
   "cell_type": "code",
   "execution_count": 5,
   "metadata": {},
   "outputs": [
    {
     "name": "stdout",
     "output_type": "stream",
     "text": [
      "tf.Tensor(2.0, shape=(), dtype=float32)\n",
      "tf.Tensor(20.0, shape=(), dtype=float32)\n",
      "tf.Tensor(40.0, shape=(), dtype=float32)\n"
     ]
    }
   ],
   "source": [
    "x = tf.Variable(5.)\n",
    "with tf.GradientTape(persistent=True) as tape:\n",
    "    z1 = 2 * x\n",
    "    z2 = z1 ** 2\n",
    "    \n",
    "print(tape.gradient(z1, x))\n",
    "print(tape.gradient(z2, z1))\n",
    "print(tape.gradient(z2, x))\n",
    "del tape"
   ]
  },
  {
   "cell_type": "code",
   "execution_count": 6,
   "metadata": {},
   "outputs": [
    {
     "name": "stdout",
     "output_type": "stream",
     "text": [
      "tf.Tensor(27.0, shape=(), dtype=float32)\n",
      "tf.Tensor(18.0, shape=(), dtype=float32)\n"
     ]
    }
   ],
   "source": [
    "# Higher-order gradient\n",
    "x = tf.Variable(3.0)\n",
    "with tf.GradientTape() as tape_out:\n",
    "    with tf.GradientTape() as tape_in:\n",
    "        y = x ** 3\n",
    "    dx_in = tape_in.gradient(y, x)\n",
    "dx_out = tape_out.gradient(dx_in, x)\n",
    "print(dx_in)\n",
    "print(dx_out)"
   ]
  },
  {
   "cell_type": "code",
   "execution_count": 7,
   "metadata": {},
   "outputs": [
    {
     "data": {
      "text/plain": [
       "[<matplotlib.lines.Line2D at 0x1dda01296c8>]"
      ]
     },
     "execution_count": 7,
     "metadata": {},
     "output_type": "execute_result"
    },
    {
     "data": {
      "image/png": "[encoded data removed]",
      "text/plain": [
       "<Figure size 432x288 with 1 Axes>"
      ]
     },
     "metadata": {
      "needs_background": "light"
     },
     "output_type": "display_data"
    }
   ],
   "source": [
    "# simulate SGD\n",
    "# draw my_func\n",
    "x = np.arange(-2,2,0.05)\n",
    "y = my_func(x)\n",
    "plt.plot(x,y)"
   ]
  },
  {
   "cell_type": "code",
   "execution_count": 8,
   "metadata": {},
   "outputs": [
    {
     "name": "stdout",
     "output_type": "stream",
     "text": [
      "<tf.Variable 'Variable:0' shape=() dtype=float32, numpy=-0.4997211>\n",
      "tf.Tensor(0.7500001, shape=(), dtype=float32)\n"
     ]
    }
   ],
   "source": [
    "learning_rate = 0.05\n",
    "x = tf.Variable(10.)\n",
    "for _ in range(100):\n",
    "    with tf.GradientTape() as tape:\n",
    "        y = my_func(x)\n",
    "    dz_dx = tape.gradient(y, x)\n",
    "    x.assign_sub(learning_rate * dz_dx)\n",
    "\n",
    "print(x)\n",
    "print(y)"
   ]
  },
  {
   "cell_type": "code",
   "execution_count": 9,
   "metadata": {},
   "outputs": [
    {
     "name": "stdout",
     "output_type": "stream",
     "text": [
      "<tf.Variable 'Variable:0' shape=() dtype=float32, numpy=-0.4997211>\n",
      "tf.Tensor(0.7500001, shape=(), dtype=float32)\n"
     ]
    }
   ],
   "source": [
    "# work with keras optimizer\n",
    "learning_rate = 0.05\n",
    "x = tf.Variable(10.)\n",
    "optimizer = tf.keras.optimizers.SGD(lr = learning_rate)\n",
    "for _ in range(100):\n",
    "    with tf.GradientTape() as tape:\n",
    "        y = my_func(x)\n",
    "    dz_dx = tape.gradient(y, x)\n",
    "    optimizer.apply_gradients([(dz_dx, x)])\n",
    "    #x.assign_sub(learning_rate * dz_dx)\n",
    "\n",
    "print(x)\n",
    "print(y)"
   ]
  },
  {
   "cell_type": "code",
   "execution_count": null,
   "metadata": {},
   "outputs": [],
   "source": []
  }
 ],
 "metadata": {
  "kernelspec": {
   "display_name": "Python 3",
   "language": "python",
   "name": "python3"
  },
  "language_info": {
   "codemirror_mode": {
    "name": "ipython",
    "version": 3
   },
   "file_extension": ".py",
   "mimetype": "text/x-python",
   "name": "python",
   "nbconvert_exporter": "python",
   "pygments_lexer": "ipython3",
   "version": "3.7.5"
  }
 },
 "nbformat": 4,
 "nbformat_minor": 2
}
