{
 "cells": [
  {
   "cell_type": "code",
   "execution_count": 1,
   "metadata": {},
   "outputs": [],
   "source": [
    "import tensorflow as tf\n",
    "import numpy as np\n",
    "import tensorflow.keras as keras\n",
    "import matplotlib.pyplot as plt\n",
    "from tensorflow.keras.datasets import mnist\n",
    "import pandas as pd"
   ]
  },
  {
   "cell_type": "code",
   "execution_count": 2,
   "metadata": {},
   "outputs": [],
   "source": [
    "#数据加载\n",
    "(image_train, label_train),\\\n",
    "(image_test, label_test) = mnist.load_data()"
   ]
  },
  {
   "cell_type": "code",
   "execution_count": 3,
   "metadata": {},
   "outputs": [
    {
     "name": "stdout",
     "output_type": "stream",
     "text": [
      "train data shape:  (60000, 28, 28)\n",
      "train label shape:  (60000,)\n",
      "test data shape:  (10000, 28, 28)\n",
      "test data shape:  (10000,)\n"
     ]
    }
   ],
   "source": [
    "print('train data shape: ', image_train.shape)\n",
    "print('train label shape: ', label_train.shape)\n",
    "print('test data shape: ', image_test.shape)\n",
    "print('test data shape: ', label_test.shape)"
   ]
  },
  {
   "cell_type": "code",
   "execution_count": 4,
   "metadata": {},
   "outputs": [],
   "source": [
    "def plot_image(image):\n",
    "    fig = plt.gcf()\n",
    "    fig.set_size_inches(2, 2)\n",
    "    plt.imshow(image, cmap='Greys')"
   ]
  },
  {
   "cell_type": "code",
   "execution_count": 5,
   "metadata": {},
   "outputs": [
    {
     "data": {
      "image/png": "[encoded data removed]",
      "text/plain": [
       "<Figure size 144x144 with 1 Axes>"
      ]
     },
     "metadata": {
      "needs_background": "light"
     },
     "output_type": "display_data"
    }
   ],
   "source": [
    "plot_image(image_train[0])"
   ]
  },
  {
   "cell_type": "code",
   "execution_count": 6,
   "metadata": {},
   "outputs": [],
   "source": [
    "def plot_images_labels_predictions(images, labels, predictions, index_start, num = 10):\n",
    "    index = index_start\n",
    "    fig = plt.gcf()\n",
    "    fig.set_size_inches(10, 12)\n",
    "    for i in range(num):\n",
    "        plt_sub = plt.subplot(5, 5, i+1)\n",
    "        plt_sub.imshow(images[index], cmap='binary')\n",
    "        title = 'label=' + str( labels[index] )\n",
    "        if len(predictions) > 0:\n",
    "            title += ', pred=' + str(predictions[index])\n",
    "        plt_sub.set_title(title, fontsize=10)\n",
    "        plt_sub.set_xticks([])\n",
    "        plt_sub.set_yticks([])\n",
    "        index += 1"
   ]
  },
  {
   "cell_type": "code",
   "execution_count": 7,
   "metadata": {},
   "outputs": [
    {
     "data": {
      "image/png": "[encoded data removed]",
      "text/plain": [
       "<Figure size 720x864 with 10 Axes>"
      ]
     },
     "metadata": {},
     "output_type": "display_data"
    }
   ],
   "source": [
    "plot_images_labels_predictions(image_train, label_train, [], 0)"
   ]
  },
  {
   "cell_type": "code",
   "execution_count": 8,
   "metadata": {},
   "outputs": [
    {
     "data": {
      "image/png": "[encoded data removed]",
      "text/plain": [
       "<Figure size 720x864 with 10 Axes>"
      ]
     },
     "metadata": {},
     "output_type": "display_data"
    }
   ],
   "source": [
    "plot_images_labels_predictions(image_test, label_test, [], 0)"
   ]
  },
  {
   "cell_type": "code",
   "execution_count": 9,
   "metadata": {},
   "outputs": [],
   "source": [
    "# 数据平坦化\n",
    "image_train_flat = image_train.reshape(-1, 784)\n",
    "image_test_flat = image_test.reshape(-1, 784)"
   ]
  },
  {
   "cell_type": "code",
   "execution_count": 10,
   "metadata": {},
   "outputs": [],
   "source": [
    "#数据归一化\n",
    "image_train_normalize = image_train_flat / 255\n",
    "image_test_normalize = image_test_flat / 255"
   ]
  },
  {
   "cell_type": "code",
   "execution_count": 11,
   "metadata": {},
   "outputs": [
    {
     "name": "stdout",
     "output_type": "stream",
     "text": [
      "[5 0 4 1 9 2 1 3 1 4]\n"
     ]
    }
   ],
   "source": [
    "# One hot\n",
    "print(label_train[0:10])"
   ]
  },
  {
   "cell_type": "code",
   "execution_count": 12,
   "metadata": {},
   "outputs": [
    {
     "name": "stdout",
     "output_type": "stream",
     "text": [
      "[[0. 0. 0. 0. 0. 1. 0. 0. 0. 0.]\n",
      " [1. 0. 0. 0. 0. 0. 0. 0. 0. 0.]\n",
      " [0. 0. 0. 0. 1. 0. 0. 0. 0. 0.]\n",
      " [0. 1. 0. 0. 0. 0. 0. 0. 0. 0.]\n",
      " [0. 0. 0. 0. 0. 0. 0. 0. 0. 1.]\n",
      " [0. 0. 1. 0. 0. 0. 0. 0. 0. 0.]\n",
      " [0. 1. 0. 0. 0. 0. 0. 0. 0. 0.]\n",
      " [0. 0. 0. 1. 0. 0. 0. 0. 0. 0.]\n",
      " [0. 1. 0. 0. 0. 0. 0. 0. 0. 0.]\n",
      " [0. 0. 0. 0. 1. 0. 0. 0. 0. 0.]]\n"
     ]
    }
   ],
   "source": [
    "label_train_onehot = keras.utils.to_categorical(label_train)\n",
    "label_test_onehot = keras.utils.to_categorical(label_test)\n",
    "print(label_train_onehot[0:10])"
   ]
  },
  {
   "cell_type": "code",
   "execution_count": 13,
   "metadata": {},
   "outputs": [],
   "source": [
    "class MyDenseLayer(keras.layers.Layer):\n",
    "    def __init__(self, units, activation=None, **kwargs):\n",
    "        self.units = units\n",
    "        self.activation = keras.layers.Activation(activation)\n",
    "        super(MyDenseLayer, self).__init__( ** kwargs )\n",
    "        \n",
    "    def build(self, input_shape):\n",
    "        # w * x + b   -> activation\n",
    "        # input: [None, a] @ w:[a, b]  output: [None, b]\n",
    "        self.my_weights = self.add_weight(name = 'my_weights',\n",
    "                                          shape = (input_shape[1], self.units),\n",
    "                                          initializer = 'normal',\n",
    "                                          trainable = True)\n",
    "        self.my_bias = self.add_weight(name = 'my_bias',\n",
    "                                       shape = (self.units, ),\n",
    "                                       initializer = 'zeros',\n",
    "                                       trainable = True)\n",
    "        super(MyDenseLayer, self).build(input_shape)\n",
    "    \n",
    "    def call(self, inputs):\n",
    "        # Compute\n",
    "        return self.activation( inputs @ self.my_weights + self.my_bias )\n",
    "\n",
    "my_selu_layer = keras.layers.Lambda( lambda x: tf.nn.selu(x) )"
   ]
  },
  {
   "cell_type": "code",
   "execution_count": 14,
   "metadata": {},
   "outputs": [
    {
     "name": "stdout",
     "output_type": "stream",
     "text": [
      "Model: \"sequential\"\n",
      "_________________________________________________________________\n",
      "Layer (type)                 Output Shape              Param #   \n",
      "=================================================================\n",
      "my_dense_layer (MyDenseLayer (None, 256)               200960    \n",
      "_________________________________________________________________\n",
      "dense (Dense)                (None, 10)                2570      \n",
      "=================================================================\n",
      "Total params: 203,530\n",
      "Trainable params: 203,530\n",
      "Non-trainable params: 0\n",
      "_________________________________________________________________\n",
      "None\n"
     ]
    }
   ],
   "source": [
    "# Create Model\n",
    "model = keras.models.Sequential([\n",
    "    MyDenseLayer(256, activation='relu', input_shape=(784,)),    \n",
    "    keras.layers.Dense(10, activation='softmax')\n",
    "])\n",
    "\n",
    "#relu: max(0, x)\n",
    "# softmax: 将向量变成概率分布 y = [e^x1/sum, e^x2/sum, e^x3/sum] -> [y1, y2, y3]\n",
    "# sum = e^x1 + e^x2 + e^x3\n",
    "print(model.summary())"
   ]
  },
  {
   "cell_type": "code",
   "execution_count": 15,
   "metadata": {},
   "outputs": [],
   "source": [
    "# Compile model\n",
    "# sparse_categorical_crossentropy ?\n",
    "def my_metrics(y_label, y_pred):\n",
    "    label_argmax = tf.argmax(y_label, axis=1)\n",
    "    pred_argmax = tf.argmax(y_pred, axis=1)\n",
    "    count = tf.shape( tf.where( label_argmax == pred_argmax ) )[0]\n",
    "    total = tf.shape(y_label)[0]\n",
    "    return count / total    \n",
    "    \n",
    "    #return keras.metrics.categorical_accuracy(y_label, y_pred)\n",
    "    \n",
    "#crossentropy: -sum( label * log(pred) )      mean()\n",
    "def my_loss(y_true, y_pred):\n",
    "    return tf.reduce_mean( -tf.reduce_sum( y_true * tf.math.log(y_pred), axis=1 ) )\n",
    "\n",
    "class MyLoss(keras.losses.Loss):\n",
    "    def call(self, y_true, y_pred):\n",
    "        return my_loss(y_true, y_pred)\n",
    "\n",
    "class MySGD(keras.optimizers.Optimizer):\n",
    "    def __init__(self,\n",
    "                 learning_rate=0.01,\n",
    "                 name='MySGD',\n",
    "                 **kwargs):\n",
    "        super(MySGD, self).__init__(name, **kwargs)\n",
    "        self._optimizer = keras.optimizers.SGD(lr=0.1)\n",
    "        self._set_hyper(\"learning_rate\", kwargs.get(\"lr\", learning_rate))\n",
    "        \n",
    "    def _create_slots(self, var_list):\n",
    "        pass\n",
    "    \n",
    "    def _resource_apply_dense(self, grad, var, apply_state=None):\n",
    "        return self._optimizer._resource_apply_dense(grad, var)\n",
    "    \n",
    "    def get_config(self):\n",
    "        config = super(MySGD, self).get_config()\n",
    "        config.update({\n",
    "            'learning_rate': self._serialize_hyperparameter(\"learning_rate\")\n",
    "        })\n",
    "        return config\n",
    "\n",
    "model.compile(loss = MyLoss(),\n",
    "              optimizer = MySGD(),\n",
    "              metrics = [my_metrics])"
   ]
  },
  {
   "cell_type": "code",
   "execution_count": 16,
   "metadata": {},
   "outputs": [
    {
     "name": "stdout",
     "output_type": "stream",
     "text": [
      "Train on 54000 samples, validate on 6000 samples\n",
      "Epoch 1/10\n",
      "WARNING:tensorflow:From D:\\Anaconda3\\envs\\TF_Learn\\lib\\site-packages\\tensorflow_core\\python\\ops\\resource_variable_ops.py:1781: calling BaseResourceVariable.__init__ (from tensorflow.python.ops.resource_variable_ops) with constraint is deprecated and will be removed in a future version.\n",
      "Instructions for updating:\n",
      "If using Keras pass *_constraint arguments to layers.\n",
      "54000/54000 - 2s - loss: 0.5564 - my_metrics: 0.8543 - val_loss: 0.2801 - val_my_metrics: 0.9203\n",
      "Epoch 2/10\n",
      "54000/54000 - 1s - loss: 0.3036 - my_metrics: 0.9146 - val_loss: 0.2234 - val_my_metrics: 0.9370\n",
      "Epoch 3/10\n",
      "54000/54000 - 2s - loss: 0.2538 - my_metrics: 0.9284 - val_loss: 0.1909 - val_my_metrics: 0.9470\n",
      "Epoch 4/10\n",
      "54000/54000 - 2s - loss: 0.2217 - my_metrics: 0.9379 - val_loss: 0.1724 - val_my_metrics: 0.9525\n",
      "Epoch 5/10\n",
      "54000/54000 - 2s - loss: 0.1966 - my_metrics: 0.9453 - val_loss: 0.1552 - val_my_metrics: 0.9603\n",
      "Epoch 6/10\n",
      "54000/54000 - 1s - loss: 0.1774 - my_metrics: 0.9499 - val_loss: 0.1405 - val_my_metrics: 0.9642\n",
      "Epoch 7/10\n",
      "54000/54000 - 1s - loss: 0.1614 - my_metrics: 0.9550 - val_loss: 0.1321 - val_my_metrics: 0.9657\n",
      "Epoch 8/10\n",
      "54000/54000 - 1s - loss: 0.1477 - my_metrics: 0.9589 - val_loss: 0.1236 - val_my_metrics: 0.9677\n",
      "Epoch 9/10\n",
      "54000/54000 - 1s - loss: 0.1361 - my_metrics: 0.9628 - val_loss: 0.1186 - val_my_metrics: 0.9690\n",
      "Epoch 10/10\n",
      "54000/54000 - 1s - loss: 0.1258 - my_metrics: 0.9650 - val_loss: 0.1096 - val_my_metrics: 0.9717\n"
     ]
    }
   ],
   "source": [
    "# Train\n",
    "history = model.fit(image_train_normalize, label_train_onehot,\n",
    "                    validation_split = 0.1, epochs=10, batch_size=200, verbose=2)"
   ]
  },
  {
   "cell_type": "code",
   "execution_count": 17,
   "metadata": {},
   "outputs": [
    {
     "ename": "KeyError",
     "evalue": "'categorical_accuracy'",
     "output_type": "error",
     "traceback": [
      "\u001b[1;31m---------------------------------------------------------------------------\u001b[0m",
      "\u001b[1;31mKeyError\u001b[0m                                  Traceback (most recent call last)",
      "\u001b[1;32m<ipython-input-17-bd3fabddbf7b>\u001b[0m in \u001b[0;36m<module>\u001b[1;34m\u001b[0m\n\u001b[0;32m      7\u001b[0m     \u001b[0mplt\u001b[0m\u001b[1;33m.\u001b[0m\u001b[0mlegend\u001b[0m\u001b[1;33m(\u001b[0m\u001b[1;33m[\u001b[0m\u001b[1;34m'train'\u001b[0m\u001b[1;33m,\u001b[0m \u001b[1;34m'validation'\u001b[0m\u001b[1;33m]\u001b[0m\u001b[1;33m,\u001b[0m \u001b[0mloc\u001b[0m\u001b[1;33m=\u001b[0m\u001b[1;34m'best'\u001b[0m\u001b[1;33m)\u001b[0m\u001b[1;33m\u001b[0m\u001b[1;33m\u001b[0m\u001b[0m\n\u001b[0;32m      8\u001b[0m \u001b[1;33m\u001b[0m\u001b[0m\n\u001b[1;32m----> 9\u001b[1;33m \u001b[0mshow_train_history\u001b[0m\u001b[1;33m(\u001b[0m\u001b[0mhistory\u001b[0m\u001b[1;33m,\u001b[0m \u001b[1;34m'categorical_accuracy'\u001b[0m\u001b[1;33m,\u001b[0m\u001b[1;34m'val_categorical_accuracy'\u001b[0m\u001b[1;33m)\u001b[0m\u001b[1;33m\u001b[0m\u001b[1;33m\u001b[0m\u001b[0m\n\u001b[0m",
      "\u001b[1;32m<ipython-input-17-bd3fabddbf7b>\u001b[0m in \u001b[0;36mshow_train_history\u001b[1;34m(train_history, train, validation)\u001b[0m\n\u001b[0;32m      1\u001b[0m \u001b[1;32mdef\u001b[0m \u001b[0mshow_train_history\u001b[0m\u001b[1;33m(\u001b[0m\u001b[0mtrain_history\u001b[0m\u001b[1;33m,\u001b[0m \u001b[0mtrain\u001b[0m\u001b[1;33m,\u001b[0m \u001b[0mvalidation\u001b[0m\u001b[1;33m)\u001b[0m\u001b[1;33m:\u001b[0m\u001b[1;33m\u001b[0m\u001b[1;33m\u001b[0m\u001b[0m\n\u001b[1;32m----> 2\u001b[1;33m     \u001b[0mplt\u001b[0m\u001b[1;33m.\u001b[0m\u001b[0mplot\u001b[0m\u001b[1;33m(\u001b[0m\u001b[0mtrain_history\u001b[0m\u001b[1;33m.\u001b[0m\u001b[0mhistory\u001b[0m\u001b[1;33m[\u001b[0m\u001b[0mtrain\u001b[0m\u001b[1;33m]\u001b[0m\u001b[1;33m)\u001b[0m\u001b[1;33m\u001b[0m\u001b[1;33m\u001b[0m\u001b[0m\n\u001b[0m\u001b[0;32m      3\u001b[0m     \u001b[0mplt\u001b[0m\u001b[1;33m.\u001b[0m\u001b[0mplot\u001b[0m\u001b[1;33m(\u001b[0m\u001b[0mtrain_history\u001b[0m\u001b[1;33m.\u001b[0m\u001b[0mhistory\u001b[0m\u001b[1;33m[\u001b[0m\u001b[0mvalidation\u001b[0m\u001b[1;33m]\u001b[0m\u001b[1;33m)\u001b[0m\u001b[1;33m\u001b[0m\u001b[1;33m\u001b[0m\u001b[0m\n\u001b[0;32m      4\u001b[0m     \u001b[0mplt\u001b[0m\u001b[1;33m.\u001b[0m\u001b[0mtitle\u001b[0m\u001b[1;33m(\u001b[0m\u001b[1;34m'Train History'\u001b[0m\u001b[1;33m)\u001b[0m\u001b[1;33m\u001b[0m\u001b[1;33m\u001b[0m\u001b[0m\n\u001b[0;32m      5\u001b[0m     \u001b[0mplt\u001b[0m\u001b[1;33m.\u001b[0m\u001b[0mxlabel\u001b[0m\u001b[1;33m(\u001b[0m\u001b[1;34m'Epoch'\u001b[0m\u001b[1;33m)\u001b[0m\u001b[1;33m\u001b[0m\u001b[1;33m\u001b[0m\u001b[0m\n",
      "\u001b[1;31mKeyError\u001b[0m: 'categorical_accuracy'"
     ]
    }
   ],
   "source": [
    "def show_train_history(train_history, train, validation):\n",
    "    plt.plot(train_history.history[train])\n",
    "    plt.plot(train_history.history[validation])\n",
    "    plt.title('Train History')\n",
    "    plt.xlabel('Epoch')\n",
    "    plt.ylabel(train)\n",
    "    plt.legend(['train', 'validation'], loc='best')\n",
    "\n",
    "show_train_history(history, 'categorical_accuracy','val_categorical_accuracy')  "
   ]
  },
  {
   "cell_type": "code",
   "execution_count": null,
   "metadata": {},
   "outputs": [],
   "source": [
    "show_train_history(history, 'loss', 'val_loss')"
   ]
  },
  {
   "cell_type": "code",
   "execution_count": null,
   "metadata": {},
   "outputs": [],
   "source": [
    "model.evaluate(image_test_normalize, label_test_onehot, verbose=2)"
   ]
  },
  {
   "cell_type": "code",
   "execution_count": null,
   "metadata": {},
   "outputs": [],
   "source": [
    "#Predict\n",
    "pred = model.predict_classes(image_test_normalize)"
   ]
  },
  {
   "cell_type": "code",
   "execution_count": null,
   "metadata": {},
   "outputs": [],
   "source": [
    "print(pred[0:10])"
   ]
  },
  {
   "cell_type": "code",
   "execution_count": null,
   "metadata": {},
   "outputs": [],
   "source": [
    "plot_images_labels_predictions(image_test, label_test, pred, index_start=0)"
   ]
  },
  {
   "cell_type": "code",
   "execution_count": null,
   "metadata": {},
   "outputs": [],
   "source": [
    "#错误数据分析\n",
    "pd.crosstab(label_test, pred, rownames=['label'], colnames=['predict'])"
   ]
  },
  {
   "cell_type": "code",
   "execution_count": null,
   "metadata": {},
   "outputs": [],
   "source": [
    "df = pd.DataFrame({'label':label_test, 'predict':pred})\n",
    "df[:10]"
   ]
  },
  {
   "cell_type": "code",
   "execution_count": null,
   "metadata": {},
   "outputs": [],
   "source": [
    "df[(df.label==5)&(df.predict==3)]"
   ]
  },
  {
   "cell_type": "code",
   "execution_count": null,
   "metadata": {},
   "outputs": [],
   "source": [
    "plot_images_labels_predictions(image_test, label_test, pred, index_start=340, num=1)"
   ]
  },
  {
   "cell_type": "code",
   "execution_count": null,
   "metadata": {},
   "outputs": [],
   "source": [
    "df[(df.label==9)&(df.predict==4)]"
   ]
  },
  {
   "cell_type": "code",
   "execution_count": null,
   "metadata": {},
   "outputs": [],
   "source": [
    "plot_images_labels_predictions(image_test, label_test, pred, index_start=9587, num=1)"
   ]
  },
  {
   "cell_type": "code",
   "execution_count": null,
   "metadata": {},
   "outputs": [],
   "source": []
  }
 ],
 "metadata": {
  "kernelspec": {
   "display_name": "Python 3",
   "language": "python",
   "name": "python3"
  },
  "language_info": {
   "codemirror_mode": {
    "name": "ipython",
    "version": 3
   },
   "file_extension": ".py",
   "mimetype": "text/x-python",
   "name": "python",
   "nbconvert_exporter": "python",
   "pygments_lexer": "ipython3",
   "version": "3.7.5"
  }
 },
 "nbformat": 4,
 "nbformat_minor": 2
}
